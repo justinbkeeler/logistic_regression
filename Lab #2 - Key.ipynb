{
 "cells": [
  {
   "cell_type": "code",
   "execution_count": 1,
   "id": "e23519e0",
   "metadata": {},
   "outputs": [
    {
     "name": "stdout",
     "output_type": "stream",
     "text": [
      "Enter number of items: 9\n",
      "Gross cost: 9.0\n",
      "Discount:   0.0\n",
      "Net cost:   9.0\n",
      "\n",
      "Tax:        0.67\n",
      "After tax:  9.67\n"
     ]
    }
   ],
   "source": [
    "# Chapter 3 Problem 1 - Dollar Store\n",
    "# dollar store with discount and sales tax\n",
    "\n",
    "count = int(input(\"Enter number of items: \")) # get input\n",
    "\n",
    "grossCost = count * 1.0 # gross cost is number of items (each item is $1)\n",
    "\n",
    "# apply discount for customers buying 10 or more items\n",
    "if count >= 10:\n",
    "    discount = round(.05 * grossCost, 2)\n",
    "else:\n",
    "    discount = 0.0\n",
    "\n",
    "# further calculations: net cost, tax rate, tax, after tax cost\n",
    "netCost = round(grossCost - discount, 2)\n",
    "taxRate = .075\n",
    "tax = round(netCost * taxRate, 2)\n",
    "afterTax = round(netCost + tax, 2)\n",
    "\n",
    "# display results\n",
    "print(\"Gross cost:\", grossCost)\n",
    "print(\"Discount:  \", discount)\n",
    "print(\"Net cost:  \", netCost)\n",
    "print()\n",
    "print(\"Tax:       \", tax)\n",
    "print(\"After tax: \", afterTax)"
   ]
  },
  {
   "cell_type": "code",
   "execution_count": null,
   "id": "815b16d0",
   "metadata": {},
   "outputs": [],
   "source": []
  }
 ],
 "metadata": {
  "kernelspec": {
   "display_name": "Python 3 (ipykernel)",
   "language": "python",
   "name": "python3"
  },
  "language_info": {
   "codemirror_mode": {
    "name": "ipython",
    "version": 3
   },
   "file_extension": ".py",
   "mimetype": "text/x-python",
   "name": "python",
   "nbconvert_exporter": "python",
   "pygments_lexer": "ipython3",
   "version": "3.9.12"
  }
 },
 "nbformat": 4,
 "nbformat_minor": 5
}
